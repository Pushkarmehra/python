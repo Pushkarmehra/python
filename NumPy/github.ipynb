{
 "cells": [
  {
   "cell_type": "markdown",
   "metadata": {},
   "source": [
    "## numpy array and  basics \n",
    "learn about numpy "
   ]
  },
  {
   "cell_type": "code",
   "execution_count": null,
   "metadata": {},
   "outputs": [],
   "source": [
    "import numpy as np"
   ]
  },
  {
   "cell_type": "markdown",
   "metadata": {},
   "source": [
    "### creating array from list "
   ]
  },
  {
   "cell_type": "code",
   "execution_count": null,
   "metadata": {},
   "outputs": [
    {
     "name": "stdout",
     "output_type": "stream",
     "text": [
      "1D array: [1 2 3 4 5]\n",
      "2D-array: [[1 2]\n",
      " [3 4]\n",
      " [5 6]]\n"
     ]
    }
   ],
   "source": [
    "array_1d=np.array([1,2,3,4,5])\n",
    "print(\"1D array:\",array_1d)\n",
    "array_2d=np.array([[1,2],[3,4],[5,6]])\n",
    "print(\"2D-array:\",array_2d)"
   ]
  },
  {
   "cell_type": "markdown",
   "metadata": {},
   "source": [
    "### list vs numpy array "
   ]
  },
  {
   "cell_type": "code",
   "execution_count": null,
   "metadata": {},
   "outputs": [
    {
     "name": "stdout",
     "output_type": "stream",
     "text": [
      "python list multipication [1, 2, 3, 1, 2, 3]\n",
      "python array multipication [2 4 6]\n",
      "\n",
      "  list operation time: 0.047269582748413086\n",
      "\n",
      "  numpy operation time: 0.0010080337524414062\n"
     ]
    }
   ],
   "source": [
    "py_list =[1,2,3]\n",
    "print(\"python list multipication\", py_list*2)\n",
    "\n",
    "np_array=np.array([1,2,3]) #elment wise multipication \n",
    "print(\"python array multipication\", np_array*2)\n",
    "import time\n",
    "start=time.time()\n",
    "py_list=[i*2 for i in range(1000000)]\n",
    "print(\"\\n  list operation time:\",time.time()-start)\n",
    "\n",
    "start=time.time()\n",
    "np_array=np.arange(1000000)*2\n",
    "print(\"\\n  numpy operation time:\",time.time()-start)"
   ]
  },
  {
   "cell_type": "markdown",
   "metadata": {},
   "source": [
    "### creating array from scratch"
   ]
  },
  {
   "cell_type": "code",
   "execution_count": null,
   "metadata": {},
   "outputs": [
    {
     "name": "stdout",
     "output_type": "stream",
     "text": [
      "zeroes array\n",
      " [[0. 0. 0. 0.]\n",
      " [0. 0. 0. 0.]\n",
      " [0. 0. 0. 0.]]\n",
      "ones array\n",
      " [[1. 1. 1.]\n",
      " [1. 1. 1.]\n",
      " [1. 1. 1.]]\n",
      "full array\n",
      " [[7 7]\n",
      " [7 7]]\n",
      "random array\n",
      " [[0.55088889 0.71277441 0.1463955 ]\n",
      " [0.26622595 0.35666946 0.09494663]]\n",
      "sequence array\n",
      " [0 2 4 6 8]\n"
     ]
    }
   ],
   "source": [
    "zeros=np.zeros((3,4))\n",
    "print(\"zeroes array\\n\",zeros)\n",
    "\n",
    "ones =np.ones((3,3))\n",
    "print(\"ones array\\n\",ones)\n",
    "\n",
    "full=np.full((2,2),7)\n",
    "print(\"full array\\n\",full)\n",
    "\n",
    "random=np.random.random((2,3))\n",
    "print(\"random array\\n\",random)\n",
    "\n",
    "sequence= np.arange(0,10,2)\n",
    "print(\"sequence array\\n\",sequence)"
   ]
  },
  {
   "cell_type": "markdown",
   "metadata": {},
   "source": [
    "### vector , matrix and tensor"
   ]
  },
  {
   "cell_type": "code",
   "execution_count": null,
   "metadata": {},
   "outputs": [
    {
     "name": "stdout",
     "output_type": "stream",
     "text": [
      "vector : [1 2 3]\n",
      "matrix : [[1 2]\n",
      " [3 4]\n",
      " [5 6]]\n",
      "tensor : [[[1 2]\n",
      "  [3 4]]\n",
      "\n",
      " [[5 6]\n",
      "  [7 8]]]\n"
     ]
    }
   ],
   "source": [
    "vector = np.array([1,2,3])\n",
    "print(\"vector :\",vector)\n",
    "\n",
    "matrix= np.array([[1,2],[3,4],[5,6]])\n",
    "print(\"matrix :\",matrix)\n",
    "\n",
    "tensor =np.array([[[1,2],[3,4]]\n",
    "                  ,[[5,6],[7,8]]\n",
    "                  ])\n",
    "print(\"tensor :\",tensor)"
   ]
  },
  {
   "cell_type": "markdown",
   "metadata": {},
   "source": [
    "### array propeties"
   ]
  },
  {
   "cell_type": "code",
   "execution_count": null,
   "metadata": {},
   "outputs": [
    {
     "name": "stdout",
     "output_type": "stream",
     "text": [
      "shape (2, 3)\n",
      "dimension 2\n",
      "size 6\n",
      "Dtype float64\n"
     ]
    }
   ],
   "source": [
    "arr= np.array([[1,2,3],\n",
    "               [4,5,6.9]])\n",
    "print(\"shape\",arr.shape)\n",
    "print(\"dimension\",arr.ndim)\n",
    "print(\"size\",arr.size)\n",
    "print(\"Dtype\",arr.dtype)"
   ]
  },
  {
   "cell_type": "markdown",
   "metadata": {},
   "source": [
    "### array reshaping"
   ]
  },
  {
   "cell_type": "code",
   "execution_count": null,
   "metadata": {},
   "outputs": [
    {
     "name": "stdout",
     "output_type": "stream",
     "text": [
      "original array [ 0  1  2  3  4  5  6  7  8  9 10 11]\n",
      "\n",
      " reshaped array [[ 0  1  2  3]\n",
      " [ 4  5  6  7]\n",
      " [ 8  9 10 11]]\n",
      "\n",
      " flattened array [ 0  1  2  3  4  5  6  7  8  9 10 11]\n",
      "\n",
      " raveled array [ 0  1  2  3  4  5  6  7  8  9 10 11]\n",
      "transpose: [[ 0  4  8]\n",
      " [ 1  5  9]\n",
      " [ 2  6 10]\n",
      " [ 3  7 11]]\n"
     ]
    }
   ],
   "source": [
    "arr =np.arange(12)\n",
    "print(\"original array\",arr)\n",
    "reshaped =arr.reshape((3,4))\n",
    "print(\"\\n reshaped array\",reshaped)\n",
    "\n",
    "flattened= reshaped.flatten()\n",
    "print(\"\\n flattened array\",flattened)\n",
    "# ravel {returns view, insted of copy}\n",
    "raveled =reshaped.ravel()\n",
    "print(\"\\n raveled array\",raveled)\n",
    "\n",
    "# transpose\n",
    "transpose= reshaped.T\n",
    "print(\"transpose:\",transpose)\n",
    "\n",
    "\n"
   ]
  }
 ],
 "metadata": {
  "language_info": {
   "name": "python"
  }
 },
 "nbformat": 4,
 "nbformat_minor": 2
}
