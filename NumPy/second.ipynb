{
 "cells": [
  {
   "cell_type": "markdown",
   "metadata": {},
   "source": [
    "## numpy array operation "
   ]
  },
  {
   "cell_type": "code",
   "execution_count": null,
   "metadata": {},
   "outputs": [],
   "source": [
    "import numpy as np"
   ]
  },
  {
   "cell_type": "code",
   "execution_count": null,
   "metadata": {},
   "outputs": [
    {
     "name": "stdout",
     "output_type": "stream",
     "text": [
      "basic slicing [3 4 5 6 7]\n",
      "with step slicing [1 3 5 7]\n",
      "negative indexing 8\n"
     ]
    }
   ],
   "source": [
    "arr = np.array([1,2,3,4,5,6,7,8,9,10])\n",
    "print(\"basic slicing\",arr[2:7])\n",
    "print(\"with step slicing\",arr[0:8:2])\n",
    "print(\"negative indexing\",arr[-3])"
   ]
  },
  {
   "cell_type": "code",
   "execution_count": null,
   "metadata": {},
   "outputs": [
    {
     "name": "stdout",
     "output_type": "stream",
     "text": [
      "specific element in matrix 4\n",
      "Entire row in matrix : [1 2 3]\n",
      "Entire row in matrix : [1 4 7]\n"
     ]
    }
   ],
   "source": [
    "arr_2d=np.array([[1,2,3],\n",
    "                 [4,5,6],\n",
    "                 [7,8,9]])\n",
    "print(\"specific element in matrix\",arr_2d[1,0])\n",
    "print(\"Entire row in matrix :\",arr_2d[0])\n",
    "print(\"Entire row in matrix :\",arr_2d[:,0])"
   ]
  },
  {
   "cell_type": "markdown",
   "metadata": {},
   "source": [
    "## sorting"
   ]
  },
  {
   "cell_type": "code",
   "execution_count": null,
   "metadata": {},
   "outputs": [
    {
     "name": "stdout",
     "output_type": "stream",
     "text": [
      "sorted array [2 3 4 5 6 8]\n",
      "sorted 2d array by column [[1 1]\n",
      " [2 2]\n",
      " [3 3]]\n",
      "sorted 2d array by row [[1 3]\n",
      " [2 3]\n",
      " [1 2]]\n"
     ]
    }
   ],
   "source": [
    "unsorted =np.array([4,3,2,6,8,5])\n",
    "print(\"sorted array\",np.sort(unsorted))\n",
    "arr_2d_unsorted=np.array([[3,1],[2,3],[1,2]])\n",
    "print(\"sorted 2d array by column\",np.sort(arr_2d_unsorted, axis=0))\n",
    "print(\"sorted 2d array by row\",np.sort(arr_2d_unsorted, axis=1))\n"
   ]
  },
  {
   "cell_type": "markdown",
   "metadata": {},
   "source": [
    "## filtering"
   ]
  },
  {
   "cell_type": "code",
   "execution_count": null,
   "metadata": {},
   "outputs": [
    {
     "name": "stdout",
     "output_type": "stream",
     "text": [
      "Even [ 2  4  6  8 10]\n",
      "Odd [1 3 5 7 9]\n"
     ]
    }
   ],
   "source": [
    "numbers= np.array([1,2,3,4,5,6,7,8,9,10])\n",
    "even_number= numbers[numbers % 2==0]\n",
    "print(\"Even\",even_number)\n",
    "odd_number =numbers[numbers%2!=0]\n",
    "print(\"Odd\",odd_number)"
   ]
  },
  {
   "cell_type": "markdown",
   "metadata": {},
   "source": [
    "filter with mask"
   ]
  },
  {
   "cell_type": "code",
   "execution_count": null,
   "metadata": {},
   "outputs": [
    {
     "name": "stdout",
     "output_type": "stream",
     "text": [
      "numbers greater than 5 [ 6  7  8  9 10]\n"
     ]
    }
   ],
   "source": [
    "mask = numbers > 5\n",
    "print(\"numbers greater than 5\",numbers[mask])"
   ]
  },
  {
   "cell_type": "markdown",
   "metadata": {},
   "source": [
    "## fancy indexing vs np.where()"
   ]
  },
  {
   "cell_type": "code",
   "execution_count": null,
   "metadata": {},
   "outputs": [
    {
     "name": "stdout",
     "output_type": "stream",
     "text": [
      "[1 3 5]\n",
      "np where [ 6  7  8  9 10]\n"
     ]
    }
   ],
   "source": [
    "indices =[0,2,4]\n",
    "print(numbers[indices])\n",
    "where_result= np.where(numbers>5)\n",
    "print(\"np where\",numbers[where_result])"
   ]
  },
  {
   "cell_type": "code",
   "execution_count": null,
   "metadata": {},
   "outputs": [
    {
     "name": "stdout",
     "output_type": "stream",
     "text": [
      "[ 1  2  3  4  5 24 28 32 36 40]\n"
     ]
    }
   ],
   "source": [
    "condition_array =np.where(numbers>5,numbers*4,numbers)#(conditon ,true happen,false happen)\n",
    "print(condition_array)"
   ]
  },
  {
   "cell_type": "markdown",
   "metadata": {},
   "source": [
    "### adding and removing data "
   ]
  },
  {
   "cell_type": "code",
   "execution_count": null,
   "metadata": {},
   "outputs": [
    {
     "name": "stdout",
     "output_type": "stream",
     "text": [
      "[1 2 3 4 5 6]\n"
     ]
    }
   ],
   "source": [
    "arr1=np.array([1,2,3])\n",
    "arr2=np.array([4,5,6])\n",
    "combing= np.concatenate((arr1,arr2))\n",
    "print(combing)"
   ]
  },
  {
   "cell_type": "markdown",
   "metadata": {},
   "source": [
    "### array compatibiltiy"
   ]
  },
  {
   "cell_type": "code",
   "execution_count": null,
   "metadata": {},
   "outputs": [
    {
     "name": "stdout",
     "output_type": "stream",
     "text": [
      "compatitivilty shapes  True\n"
     ]
    }
   ],
   "source": [
    "a=np.array([1,2,3])\n",
    "b=np.array([4,5,6])\n",
    "c=np.array([7,8,9])\n",
    "print(\"compatitivilty shapes \",a.shape == b.shape)"
   ]
  },
  {
   "cell_type": "code",
   "execution_count": null,
   "metadata": {},
   "outputs": [
    {
     "name": "stdout",
     "output_type": "stream",
     "text": [
      "[[1 2]\n",
      " [3 4]]\n",
      "[[1 2]\n",
      " [3 4]\n",
      " [5 6]]\n",
      "[[1 2 7]\n",
      " [3 4 8]]\n"
     ]
    }
   ],
   "source": [
    "original=np.array([[1,2],[3,4]])\n",
    "new_row =np.array([[5,6]])\n",
    "with_new_row =np.vstack((original,new_row))\n",
    "print(original)\n",
    "print(with_new_row)\n",
    "\n",
    "new_col = np.array([[7],[8]])\n",
    "with_new_col=np.hstack((original,new_col))\n",
    "print(with_new_col)"
   ]
  },
  {
   "cell_type": "code",
   "execution_count": null,
   "metadata": {},
   "outputs": [
    {
     "name": "stdout",
     "output_type": "stream",
     "text": [
      "array after deletion: [1 2 4 5]\n"
     ]
    }
   ],
   "source": [
    "arr= np.array([1,2,3,4,5])\n",
    "delete=np.delete(arr,2)\n",
    "print(\"array after deletion:\",delete)"
   ]
  }
 ],
 "metadata": {
  "language_info": {
   "name": "python"
  }
 },
 "nbformat": 4,
 "nbformat_minor": 2
}
